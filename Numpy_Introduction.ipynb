{
 "cells": [
  {
   "cell_type": "markdown",
   "metadata": {},
   "source": [
    "## Introduction to NumPy, SciPy, and Matplotlib"
   ]
  },
  {
   "cell_type": "markdown",
   "metadata": {},
   "source": [
    "[Numpy](https://numpy.org/) is an essential Python package for carrying out calculations that are fundamental in many areas of scientific computing.  [SciPy](https://scipy.org/) is a library that integrates the fundamental data structures of Numpy into modules that contain tools for specific areas linear algebra, optimization, integration, and statistics  [Matplotlib](https://matplotlib.org/) is a extensive Python package for producing a wide variety of quality plots.  All of these packages are installed and available on Syzygy.  In this notebook we will demonstrate just a few of the basic elements needed to get started.  "
   ]
  },
  {
   "cell_type": "markdown",
   "metadata": {},
   "source": [
    "### NumPy Arrays\n",
    "\n",
    "Although it is possible to represent an matrices using lists of lists, NumPy has a powerful way to represent arrays, and has many built-in tools for processing them efficiently.  To use Numpy, we must first import it.  This time we will use the code $\\texttt{import numpy as np}$, which imports the module but gives it a different name, called an alias, that is more convenient to type. "
   ]
  },
  {
   "cell_type": "code",
   "execution_count": 88,
   "metadata": {},
   "outputs": [],
   "source": [
    "import numpy as np"
   ]
  },
  {
   "cell_type": "markdown",
   "metadata": {},
   "source": [
    "There are several ways we might create arrays depending on the circumstance.  Let's for example that we want to represent the following $2\\times 2$ matrix.\n",
    "\n",
    "\\begin{equation}\n",
    "\\left[ \\begin{array}{rrrr} 5 & -1 & 1 & 0 \\\\ 4 & 3 & 12 & -6 \\end{array}\\right]\n",
    "\\end{equation}\n",
    "\n",
    "\n",
    "The easiest way create small specific arrays is to use the $\\texttt{array}$ function, and provide it a list of lists which represent the rows of the array.  "
   ]
  },
  {
   "cell_type": "code",
   "execution_count": 89,
   "metadata": {},
   "outputs": [
    {
     "name": "stdout",
     "output_type": "stream",
     "text": [
      "[[ 5 -1  1  0]\n",
      " [ 4  3 12 -6]]\n"
     ]
    }
   ],
   "source": [
    "## The object [[5, -1, 1, 0],[4, 3, 12, -6]], which gets passed into the array function is a list of lists.\n",
    "## The object returned by the array function is a NumPy array object.\n",
    "\n",
    "A = np.array([[5, -1, 1, 0],[4, 3, 12, -6]])\n",
    "print(A)"
   ]
  },
  {
   "cell_type": "markdown",
   "metadata": {},
   "source": [
    "In order to access individual entries in an array, we use a pair of indices to refer to the row and column of the entry we are accessing.  "
   ]
  },
  {
   "cell_type": "code",
   "execution_count": 90,
   "metadata": {},
   "outputs": [
    {
     "name": "stdout",
     "output_type": "stream",
     "text": [
      "1\n"
     ]
    }
   ],
   "source": [
    "print(A[0,2])"
   ]
  },
  {
   "cell_type": "markdown",
   "metadata": {},
   "source": [
    "If we want to build up an array element by element, we could initialize an array full of zeros, and then assign each element individually."
   ]
  },
  {
   "cell_type": "code",
   "execution_count": 91,
   "metadata": {},
   "outputs": [
    {
     "name": "stdout",
     "output_type": "stream",
     "text": [
      "[[ 5. -1.  0.  0.]\n",
      " [ 0.  0.  0.  0.]]\n"
     ]
    }
   ],
   "source": [
    "A = np.zeros((2,4))\n",
    "A[0,0] = 5\n",
    "A[0,1] = -1\n",
    "## Carry on to fill up the array\n",
    "print(A)"
   ]
  },
  {
   "cell_type": "markdown",
   "metadata": {},
   "source": [
    "Numpy arrays have methods, just as lists and other objects have methods.  Another way we might create the array above is to first make an array that a single row, and then use the $\\texttt{reshape}$ method.  This can be more convenient than typing the extra square brackets, but it can also be handy to build arrays from other arrays. "
   ]
  },
  {
   "cell_type": "code",
   "execution_count": 92,
   "metadata": {},
   "outputs": [
    {
     "name": "stdout",
     "output_type": "stream",
     "text": [
      "This is B:\n",
      "[ 5 -1  1  0  4  3 12 -6]\n",
      "This is C, which is the entries of B formed into a new shape:\n",
      "[[ 5 -1  1  0]\n",
      " [ 4  3 12 -6]]\n"
     ]
    }
   ],
   "source": [
    "B = np.array([5, -1, 1, 0, 4, 3, 12, -6])\n",
    "print(\"This is B:\")\n",
    "print(B)\n",
    "\n",
    "C = B.reshape((2,4))\n",
    "print(\"This is C, which is the entries of B formed into a new shape:\")\n",
    "print(C)"
   ]
  },
  {
   "cell_type": "markdown",
   "metadata": {},
   "source": [
    "Arrays also have an **attribute** called $\\texttt{shape}$, which can be used to look up the dimensions of a given array.  Another way to reshape $B$ is to change the value of the $\\texttt{shape}$ attribute directly."
   ]
  },
  {
   "cell_type": "code",
   "execution_count": 93,
   "metadata": {},
   "outputs": [
    {
     "name": "stdout",
     "output_type": "stream",
     "text": [
      "[[ 5 -1  1  0]\n",
      " [ 4  3 12 -6]]\n"
     ]
    }
   ],
   "source": [
    "B.shape = (2,4)\n",
    "print(B)"
   ]
  },
  {
   "cell_type": "markdown",
   "metadata": {},
   "source": [
    "We will often wish to make modifications to an array while keeping a copy of the original.  In this situation we can duplicate an existing array with the $\\texttt{copy}$ function."
   ]
  },
  {
   "cell_type": "code",
   "execution_count": 94,
   "metadata": {},
   "outputs": [
    {
     "name": "stdout",
     "output_type": "stream",
     "text": [
      "[[ 5. -1.  0.  0.]\n",
      " [ 0.  0.  0.  0.]]\n"
     ]
    }
   ],
   "source": [
    "D = np.copy(A)\n",
    "print(D)"
   ]
  },
  {
   "cell_type": "markdown",
   "metadata": {},
   "source": [
    "**Important:** Using the assignment operation $(=)$ does **not** create a copy.  It only attaches an additional name to the same object.  This is often not causes effects that we did not intend."
   ]
  },
  {
   "cell_type": "code",
   "execution_count": 95,
   "metadata": {},
   "outputs": [
    {
     "name": "stdout",
     "output_type": "stream",
     "text": [
      "D\n",
      "[[ 5. -1.  0.  0.]\n",
      " [ 0.  0.  0.  0.]]\n",
      "A\n",
      "[[ 5. -1.  0.  0.]\n",
      " [ 0.  0.  0.  0.]]\n",
      "D\n",
      "[[88. -1.  0.  0.]\n",
      " [ 0.  0.  0.  0.]]\n",
      "A\n",
      "[[88. -1.  0.  0.]\n",
      " [ 0.  0.  0.  0.]]\n"
     ]
    }
   ],
   "source": [
    "## If we set D \"equal to A\", what we get is one object with two names.\n",
    "D = A\n",
    "print('D',D,'A',A,sep='\\n')\n",
    "\n",
    "## When we change one we change both.\n",
    "D[0,0] = 88\n",
    "print('D',D,'A',A,sep='\\n')"
   ]
  },
  {
   "cell_type": "markdown",
   "metadata": {},
   "source": [
    "Sometimes it is useful to define an array as a portion of an existing array.  We can do this with an operation called *slicing*."
   ]
  },
  {
   "cell_type": "code",
   "execution_count": 96,
   "metadata": {},
   "outputs": [
    {
     "name": "stdout",
     "output_type": "stream",
     "text": [
      "E\n",
      " [88. -1.  0.  0.] \n",
      "\n",
      "F\n",
      " [[88. -1.]\n",
      " [ 0.  0.]] \n",
      "\n"
     ]
    }
   ],
   "source": [
    "## E is the first row of D\n",
    "## Note that in this scenario E actually becomes a 1d array rather than a 2d array\n",
    "## To access the elements, we should use E[k] rather than E[0,k]\n",
    "E = D[0,:]\n",
    "print('E\\n',E,'\\n')\n",
    "\n",
    "## F is the first two columns of D\n",
    "F = D[:,0:2]\n",
    "print('F\\n',F,'\\n')"
   ]
  },
  {
   "cell_type": "markdown",
   "metadata": {},
   "source": [
    "We can also generate a random array of numbers using the $\\texttt{rand}$ function, which is part of the $\\texttt{random}$ module.  Providing two arguments to $\\texttt{rand}$ will cause it to return an array with those dimensions with entries from a uniform distribution on $[0,1]$.  Note that we need do use the dot notation twice in this case since $\\texttt{rand}$ is a function in the $\\texttt{random}$ module."
   ]
  },
  {
   "cell_type": "code",
   "execution_count": 97,
   "metadata": {},
   "outputs": [
    {
     "name": "stdout",
     "output_type": "stream",
     "text": [
      "[[0.60228651 0.3384407 ]\n",
      " [0.04724712 0.46838662]\n",
      " [0.97649884 0.28240346]]\n"
     ]
    }
   ],
   "source": [
    "X = np.random.rand(3,2)\n",
    "print(X)"
   ]
  },
  {
   "cell_type": "markdown",
   "metadata": {},
   "source": [
    "If we supply $\\texttt{rand}$ with no arguments, it returns a single value."
   ]
  },
  {
   "cell_type": "code",
   "execution_count": 98,
   "metadata": {},
   "outputs": [
    {
     "name": "stdout",
     "output_type": "stream",
     "text": [
      "0.642625284495253\n"
     ]
    }
   ],
   "source": [
    "print(np.random.rand())"
   ]
  },
  {
   "cell_type": "markdown",
   "metadata": {},
   "source": [
    "If we want to generate random integers, we can use the $\\texttt{randint}$ function.  This function requires a minimum of one argument to specify an upper bound on the numbers produced.  The code below produces a random number from among the integers 0 to 9.  "
   ]
  },
  {
   "cell_type": "code",
   "execution_count": 99,
   "metadata": {},
   "outputs": [
    {
     "name": "stdout",
     "output_type": "stream",
     "text": [
      "9\n"
     ]
    }
   ],
   "source": [
    "print(np.random.randint(10))"
   ]
  },
  {
   "cell_type": "markdown",
   "metadata": {},
   "source": [
    "To generate a random array we have to specify the number of rows and columns using a *keyword argument* called $\\texttt{size}$.  The use of a *keyword argument* requires slightly different syntax as shown in the following example."
   ]
  },
  {
   "cell_type": "code",
   "execution_count": 100,
   "metadata": {},
   "outputs": [
    {
     "name": "stdout",
     "output_type": "stream",
     "text": [
      "[[0 3 0 7 3 0]\n",
      " [2 7 1 7 3 7]\n",
      " [4 9 3 6 0 0]]\n"
     ]
    }
   ],
   "source": [
    "Y = np.random.randint(10,size=(3,6))\n",
    "print(Y)"
   ]
  },
  {
   "cell_type": "markdown",
   "metadata": {},
   "source": [
    "The $\\texttt{random}$ module also includes functions for generating random numbers (or arrays) based on common distributions.  Again we can view available functions by printing the directory of the module, or view information on how to use specific functions by printing their docstrings.  "
   ]
  },
  {
   "cell_type": "code",
   "execution_count": 101,
   "metadata": {},
   "outputs": [
    {
     "name": "stdout",
     "output_type": "stream",
     "text": [
      "['BitGenerator', 'Generator', 'MT19937', 'PCG64', 'Philox', 'RandomState', 'SFC64', 'SeedSequence', '__RandomState_ctor', '__all__', '__builtins__', '__cached__', '__doc__', '__file__', '__loader__', '__name__', '__package__', '__path__', '__spec__', '_bounded_integers', '_common', '_generator', '_mt19937', '_pcg64', '_philox', '_pickle', '_sfc64', 'beta', 'binomial', 'bit_generator', 'bytes', 'chisquare', 'choice', 'default_rng', 'dirichlet', 'exponential', 'f', 'gamma', 'geometric', 'get_state', 'gumbel', 'hypergeometric', 'laplace', 'logistic', 'lognormal', 'logseries', 'mtrand', 'multinomial', 'multivariate_normal', 'negative_binomial', 'noncentral_chisquare', 'noncentral_f', 'normal', 'pareto', 'permutation', 'poisson', 'power', 'rand', 'randint', 'randn', 'random', 'random_integers', 'random_sample', 'ranf', 'rayleigh', 'sample', 'seed', 'set_state', 'shuffle', 'standard_cauchy', 'standard_exponential', 'standard_gamma', 'standard_normal', 'standard_t', 'test', 'triangular', 'uniform', 'vonmises', 'wald', 'weibull', 'zipf']\n"
     ]
    }
   ],
   "source": [
    "print(dir(np.random))"
   ]
  },
  {
   "cell_type": "code",
   "execution_count": 102,
   "metadata": {},
   "outputs": [
    {
     "name": "stdout",
     "output_type": "stream",
     "text": [
      "\n",
      "        exponential(scale=1.0, size=None)\n",
      "\n",
      "        Draw samples from an exponential distribution.\n",
      "\n",
      "        Its probability density function is\n",
      "\n",
      "        .. math:: f(x; \\frac{1}{\\beta}) = \\frac{1}{\\beta} \\exp(-\\frac{x}{\\beta}),\n",
      "\n",
      "        for ``x > 0`` and 0 elsewhere. :math:`\\beta` is the scale parameter,\n",
      "        which is the inverse of the rate parameter :math:`\\lambda = 1/\\beta`.\n",
      "        The rate parameter is an alternative, widely used parameterization\n",
      "        of the exponential distribution [3]_.\n",
      "\n",
      "        The exponential distribution is a continuous analogue of the\n",
      "        geometric distribution.  It describes many common situations, such as\n",
      "        the size of raindrops measured over many rainstorms [1]_, or the time\n",
      "        between page requests to Wikipedia [2]_.\n",
      "\n",
      "        .. note::\n",
      "            New code should use the ``exponential`` method of a ``default_rng()``\n",
      "            instance instead; please see the :ref:`random-quick-start`.\n",
      "\n",
      "        Parameters\n",
      "        ----------\n",
      "        scale : float or array_like of floats\n",
      "            The scale parameter, :math:`\\beta = 1/\\lambda`. Must be\n",
      "            non-negative.\n",
      "        size : int or tuple of ints, optional\n",
      "            Output shape.  If the given shape is, e.g., ``(m, n, k)``, then\n",
      "            ``m * n * k`` samples are drawn.  If size is ``None`` (default),\n",
      "            a single value is returned if ``scale`` is a scalar.  Otherwise,\n",
      "            ``np.array(scale).size`` samples are drawn.\n",
      "\n",
      "        Returns\n",
      "        -------\n",
      "        out : ndarray or scalar\n",
      "            Drawn samples from the parameterized exponential distribution.\n",
      "\n",
      "        See Also\n",
      "        --------\n",
      "        Generator.exponential: which should be used for new code.\n",
      "\n",
      "        References\n",
      "        ----------\n",
      "        .. [1] Peyton Z. Peebles Jr., \"Probability, Random Variables and\n",
      "               Random Signal Principles\", 4th ed, 2001, p. 57.\n",
      "        .. [2] Wikipedia, \"Poisson process\",\n",
      "               https://en.wikipedia.org/wiki/Poisson_process\n",
      "        .. [3] Wikipedia, \"Exponential distribution\",\n",
      "               https://en.wikipedia.org/wiki/Exponential_distribution\n",
      "\n",
      "        \n"
     ]
    }
   ],
   "source": [
    "print(np.random.exponential.__doc__)"
   ]
  },
  {
   "cell_type": "markdown",
   "metadata": {},
   "source": [
    "### Linear Algebra"
   ]
  },
  {
   "cell_type": "markdown",
   "metadata": {},
   "source": [
    "Matrix multiplication is a built-in feature of NumPy and uses the @ operator."
   ]
  },
  {
   "cell_type": "code",
   "execution_count": 103,
   "metadata": {},
   "outputs": [
    {
     "name": "stdout",
     "output_type": "stream",
     "text": [
      "A\n",
      "[[1 2]\n",
      " [2 1]]\n",
      "B\n",
      "[[ 5 -1  1  0]\n",
      " [ 4  3 12 -6]]\n",
      "A*B\n",
      "[[ 13   5  25 -12]\n",
      " [ 14   1  14  -6]]\n"
     ]
    }
   ],
   "source": [
    "A = np.array([1, 2, 2, 1])\n",
    "A.shape = (2,2)\n",
    "B = np.array([5, -1, 1, 0, 4, 3, 12, -6])\n",
    "B.shape = (2,4)\n",
    "matrix_product = A@B\n",
    "\n",
    "## Note here that sep is a keyward argument for print.\n",
    "## The value of sep is the string that gets printed between the other arguments\n",
    "print(\"A\",A,\"B\",B,\"A*B\",matrix_product,sep='\\n')"
   ]
  },
  {
   "cell_type": "markdown",
   "metadata": {},
   "source": [
    "For some common linear algebra computations, we will import the $\\texttt{linalg}$ module from SciPy.  (*There is also a $\\texttt{linalg}$  module in NumPy but it contains fewer functions*)."
   ]
  },
  {
   "cell_type": "code",
   "execution_count": 104,
   "metadata": {},
   "outputs": [
    {
     "name": "stdout",
     "output_type": "stream",
     "text": [
      "['LinAlgError', 'LinAlgWarning', '__all__', '__builtins__', '__cached__', '__doc__', '__file__', '__loader__', '__name__', '__package__', '__path__', '__spec__', '_decomp_cossin', '_decomp_ldl', '_decomp_polar', '_decomp_qz', '_decomp_update', '_expm_frechet', '_fblas', '_flapack', '_flinalg', '_matfuncs_sqrtm', '_procrustes', '_sketches', '_solve_toeplitz', '_solvers', 'basic', 'blas', 'block_diag', 'cdf2rdf', 'cho_factor', 'cho_solve', 'cho_solve_banded', 'cholesky', 'cholesky_banded', 'circulant', 'clarkson_woodruff_transform', 'companion', 'convolution_matrix', 'coshm', 'cosm', 'cossin', 'cython_blas', 'cython_lapack', 'decomp', 'decomp_cholesky', 'decomp_lu', 'decomp_qr', 'decomp_schur', 'decomp_svd', 'det', 'dft', 'diagsvd', 'eig', 'eig_banded', 'eigh', 'eigh_tridiagonal', 'eigvals', 'eigvals_banded', 'eigvalsh', 'eigvalsh_tridiagonal', 'expm', 'expm_cond', 'expm_frechet', 'fiedler', 'fiedler_companion', 'find_best_blas_type', 'flinalg', 'fractional_matrix_power', 'funm', 'get_blas_funcs', 'get_lapack_funcs', 'hadamard', 'hankel', 'helmert', 'hessenberg', 'hilbert', 'inv', 'invhilbert', 'invpascal', 'khatri_rao', 'kron', 'lapack', 'ldl', 'leslie', 'logm', 'lstsq', 'lu', 'lu_factor', 'lu_solve', 'matfuncs', 'matrix_balance', 'misc', 'norm', 'null_space', 'ordqz', 'orth', 'orthogonal_procrustes', 'pascal', 'pinv', 'pinv2', 'pinvh', 'polar', 'qr', 'qr_delete', 'qr_insert', 'qr_multiply', 'qr_update', 'qz', 'rq', 'rsf2csf', 'schur', 'signm', 'sinhm', 'sinm', 'solve', 'solve_banded', 'solve_circulant', 'solve_continuous_are', 'solve_continuous_lyapunov', 'solve_discrete_are', 'solve_discrete_lyapunov', 'solve_lyapunov', 'solve_sylvester', 'solve_toeplitz', 'solve_triangular', 'solveh_banded', 'special_matrices', 'sqrtm', 'subspace_angles', 'svd', 'svdvals', 'tanhm', 'tanm', 'test', 'toeplitz', 'tri', 'tril', 'triu']\n"
     ]
    }
   ],
   "source": [
    "import scipy.linalg as sla\n",
    "\n",
    "print(dir(sla))"
   ]
  },
  {
   "cell_type": "markdown",
   "metadata": {},
   "source": [
    "  We show just a few of the SciPy $\\texttt{linalg}$ functions."
   ]
  },
  {
   "cell_type": "code",
   "execution_count": 105,
   "metadata": {},
   "outputs": [
    {
     "name": "stdout",
     "output_type": "stream",
     "text": [
      "Generic solve:\n",
      "[1. 1. 1. 1.] \n",
      "\n",
      "Solve with LU factorization:\n",
      "[1. 1. 1. 1.] \n",
      "\n",
      "Solve with QR factorization:\n",
      "[1. 1. 1. 1.] \n",
      "\n",
      "Solve with A inverse:\n",
      "[1. 1. 1. 1.] \n",
      "\n"
     ]
    }
   ],
   "source": [
    "## Construct a random square matrix A, a vector X of all ones, and the vector AX\n",
    "\n",
    "A = np.random.randint(10,size=(4,4))\n",
    "X = np.array([1 for i in range(4)])\n",
    "B = A@X\n",
    "\n",
    "## Solve AX = B with generic solver.\n",
    "## Parameters can be supplied to indicate any special structure of A (e.g. symmetric)\n",
    "\n",
    "X_solve = sla.solve(A,B)\n",
    "print('Generic solve:')\n",
    "print(X_solve,'\\n')\n",
    "\n",
    "## Solve using an LU factorization.  \n",
    "## In this case we call one function to factor, and another to solve the triangular systems.\n",
    "\n",
    "LU_factorization = sla.lu_factor(A)\n",
    "X_lu_solve = sla.lu_solve(LU_factorization,B)\n",
    "print('Solve with LU factorization:')\n",
    "print(X_lu_solve,'\\n')\n",
    "\n",
    "## Solve using a QR factorization.\n",
    "\n",
    "Q,R = sla.qr(A)\n",
    "X_qr_solve = sla.solve_triangular(R,Q.T@B)\n",
    "print('Solve with QR factorization:')\n",
    "print(X_qr_solve,'\\n')\n",
    "\n",
    "## Solve by computing an inverse matrix.\n",
    "\n",
    "A_inv = sla.inv(A)\n",
    "X_inv_solve = A_inv@B\n",
    "print('Solve with A inverse:')\n",
    "print(X_inv_solve,'\\n')\n"
   ]
  },
  {
   "cell_type": "markdown",
   "metadata": {},
   "source": [
    "The $\\texttt{eig}$ function returns two arrays containing the eigenvalues and eigenvectors of a matrix.  We use the $\\texttt{round}$ function here to make the output easier to read.  "
   ]
  },
  {
   "cell_type": "code",
   "execution_count": 106,
   "metadata": {},
   "outputs": [
    {
     "name": "stdout",
     "output_type": "stream",
     "text": [
      "[19.29678+0.j      -2.83044+0.j       0.26683+1.32653j  0.26683-1.32653j] \n",
      "\n",
      "[[ 0.22574+0.j       0.72341+0.j       0.00624+0.19895j  0.00624-0.19895j]\n",
      " [ 0.42439+0.j      -0.52732+0.j       0.8803 +0.j       0.8803 -0.j     ]\n",
      " [ 0.59004+0.j      -0.39585+0.j      -0.03836-0.01965j -0.03836+0.01965j]\n",
      " [ 0.64869+0.j      -0.20474+0.j      -0.35016-0.24696j -0.35016+0.24696j]] \n",
      "\n",
      "Check first eigenvalue/eigenvector pair:\n",
      "[ 0.+0.j -0.+0.j -0.+0.j  0.+0.j]\n",
      "\n",
      "If we do not round the output, we can see the roundoff error in the calculation.\n",
      "[ 8.88178420e-16+0.j -5.32907052e-15+0.j -5.32907052e-15+0.j\n",
      "  0.00000000e+00+0.j]\n"
     ]
    }
   ],
   "source": [
    "eig_values, eig_vectors = sla.eig(A)\n",
    "print(np.round(eig_values,5),'\\n')\n",
    "print(np.round(eig_vectors,5),'\\n')\n",
    "print(\"Check first eigenvalue/eigenvector pair:\")\n",
    "\n",
    "# Slice the first column from eig_vectors\n",
    "V_1 = eig_vectors[:,0]\n",
    "lambda_1 = eig_values[0]\n",
    "print(np.round(A@V_1 - lambda_1*V_1,8))\n",
    "\n",
    "print(\"\\nIf we do not round the output, we can see the roundoff error in the calculation.\")\n",
    "print(A@V_1 - lambda_1*V_1)"
   ]
  },
  {
   "cell_type": "markdown",
   "metadata": {},
   "source": [
    "The docstrings for the functions in this module are quite verbose.  Many contain at least one example on how to use the function, and the output to be expected."
   ]
  },
  {
   "cell_type": "code",
   "execution_count": 107,
   "metadata": {},
   "outputs": [
    {
     "name": "stdout",
     "output_type": "stream",
     "text": [
      "\n",
      "    Create a Hilbert matrix of order `n`.\n",
      "\n",
      "    Returns the `n` by `n` array with entries `h[i,j] = 1 / (i + j + 1)`.\n",
      "\n",
      "    Parameters\n",
      "    ----------\n",
      "    n : int\n",
      "        The size of the array to create.\n",
      "\n",
      "    Returns\n",
      "    -------\n",
      "    h : (n, n) ndarray\n",
      "        The Hilbert matrix.\n",
      "\n",
      "    See Also\n",
      "    --------\n",
      "    invhilbert : Compute the inverse of a Hilbert matrix.\n",
      "\n",
      "    Notes\n",
      "    -----\n",
      "    .. versionadded:: 0.10.0\n",
      "\n",
      "    Examples\n",
      "    --------\n",
      "    >>> from scipy.linalg import hilbert\n",
      "    >>> hilbert(3)\n",
      "    array([[ 1.        ,  0.5       ,  0.33333333],\n",
      "           [ 0.5       ,  0.33333333,  0.25      ],\n",
      "           [ 0.33333333,  0.25      ,  0.2       ]])\n",
      "\n",
      "    \n"
     ]
    }
   ],
   "source": [
    "print(sla.hilbert.__doc__)"
   ]
  },
  {
   "cell_type": "markdown",
   "metadata": {},
   "source": [
    "## Matplotlib\n",
    "\n",
    "Matplotlib provides a wide range of plotting functionality, and *many* options to make precise customizations to the figures produced.  The Figure is the fundamental object in matplotlib.  Each figure can have multiple Axes objects, which we might think of as a 'plots' in the figure.  Sometimes we want to adjust elements of a figure, but often that means that we want to adjust elements of an Axes object in the figure.  We make the distinction below with a Figure that has muliple Axes.\n",
    "\n",
    "<img src=\"https://matplotlib.org/2.0.2/_images/anatomy.png\" width=\"50%\" />\n",
    "\n",
    "Code for the plot is given [here](https://matplotlib.org/2.0.2/examples/showcase/anatomy.html).  The following examples will show how to generate Figures and make minor adjustments to some of these elements.  \n"
   ]
  },
  {
   "cell_type": "markdown",
   "metadata": {},
   "source": [
    "#### Example 1\n",
    "Let's first make a simple plot of a few data points.  The coordinates will be stored in a NumPy arrays."
   ]
  },
  {
   "cell_type": "code",
   "execution_count": 57,
   "metadata": {},
   "outputs": [
    {
     "data": {
      "image/png": "[encoded data removed]",
      "text/plain": [
       "<Figure size 432x288 with 1 Axes>"
      ]
     },
     "metadata": {
      "needs_background": "light"
     },
     "output_type": "display_data"
    }
   ],
   "source": [
    "x = np.array([1, 2.5, 3, 5.8])\n",
    "y = np.array([2, 1.2, 1.1, 0.8])\n",
    "\n",
    "## Import the module, assign a short alias, and direct the graphical output to this notebook\n",
    "import matplotlib.pyplot as plt \n",
    "%matplotlib inline\n",
    "\n",
    "## This function generates a Figure and a single Axes on that figure\n",
    "## We assing them names fig and ax.\n",
    "fig, ax = plt.subplots()\n",
    "\n",
    "## Plots the data on the Axes object\n",
    "ax.plot(x,y);"
   ]
  },
  {
   "cell_type": "markdown",
   "metadata": {},
   "source": [
    "The plot produced by this basic use of the $\\texttt{plot}$ method has connected the data point coordinates with lines.  This is the *default* behavior of this function.  It is common for Matplotlib functions (and functions in many other Python libraries) to have a default functionality which is produced by supplying the minimum number of arguments. Typically additional arguments can be supplied which alter this default functionality.  In our example, we can supply the optional argument $\\texttt{'b+'}$ to the $\\texttt{plot}$ method to produce a plot with blue $+$ symbols at the data coordinates instead of lines connecting them.   "
   ]
  },
  {
   "cell_type": "code",
   "execution_count": 59,
   "metadata": {},
   "outputs": [
    {
     "data": {
      "image/png": "[encoded data removed]",
      "text/plain": [
       "<Figure size 432x288 with 1 Axes>"
      ]
     },
     "metadata": {
      "needs_background": "light"
     },
     "output_type": "display_data"
    }
   ],
   "source": [
    "fig, ax = plt.subplots()\n",
    "ax.plot(x,y,'b+');"
   ]
  },
  {
   "cell_type": "markdown",
   "metadata": {},
   "source": [
    "Another alternative when we interested in plotting data points is the $\\texttt{scatter}$ method, for which we can use the same syntax."
   ]
  },
  {
   "cell_type": "code",
   "execution_count": 60,
   "metadata": {},
   "outputs": [
    {
     "data": {
      "image/png": "[encoded data removed]",
      "text/plain": [
       "<Figure size 432x288 with 1 Axes>"
      ]
     },
     "metadata": {
      "needs_background": "light"
     },
     "output_type": "display_data"
    }
   ],
   "source": [
    "fig, ax = plt.subplots()\n",
    "ax.scatter(x,y);"
   ]
  },
  {
   "cell_type": "markdown",
   "metadata": {},
   "source": [
    "Next, we show how to configure some of the elements in such a plot by using methods of the Axes."
   ]
  },
  {
   "cell_type": "code",
   "execution_count": 62,
   "metadata": {},
   "outputs": [
    {
     "data": {
      "image/png": "[encoded data removed]",
      "text/plain": [
       "<Figure size 432x288 with 1 Axes>"
      ]
     },
     "metadata": {
      "needs_background": "light"
     },
     "output_type": "display_data"
    }
   ],
   "source": [
    "fig, ax = plt.subplots()\n",
    "ax.plot(x,y,'rx');\n",
    "\n",
    "## These options set the upper and lower boundaries for x and y.\n",
    "ax.set_xlim(0,8);\n",
    "ax.set_ylim(0,4);\n",
    "\n",
    "## This option displays a grid to help visualize the coordinates\n",
    "ax.grid(True);\n",
    "\n",
    "## These options are used to set labels for the axes\n",
    "ax.set_xlabel('Time');\n",
    "ax.set_label('Concentration');\n",
    "ax.set_title(\"Pollution level\");"
   ]
  },
  {
   "cell_type": "markdown",
   "metadata": {},
   "source": [
    "In more sophisticated settings, we might want multiple Axes objects in one Figure.  In this case we can supply two arguments to $\\texttt{subplots}$ to specify the number of rows and columns of subplots we want, and we are supplied with a *list* of Axes objects. In order to manipulate the settings for each *subplot*, we have to use a method of the corresponding Axes object.  The names of these methods are similar but not quite the same as the functions we used in the previous figures."
   ]
  },
  {
   "cell_type": "code",
   "execution_count": 53,
   "metadata": {},
   "outputs": [
    {
     "data": {
      "image/png": "[encoded data removed]",
      "text/plain": [
       "<Figure size 864x288 with 2 Axes>"
      ]
     },
     "metadata": {
      "needs_background": "light"
     },
     "output_type": "display_data"
    }
   ],
   "source": [
    "fig, ax = plt.subplots(1,2)\n",
    "\n",
    "## Construct and configure plot for first Axes\n",
    "ax[0].plot(x,y,'r',ls=':',marker='o');\n",
    "\n",
    "ax[0].set_xlim(0,8);\n",
    "ax[0].set_ylim(0,3);\n",
    "ax[0].grid(True);\n",
    "\n",
    "ax[0].set_xlabel('Time');\n",
    "ax[0].set_ylabel('Concentration');\n",
    "ax[0].set_title(\"Line plot\");\n",
    "\n",
    "## Construct and configure plot for second Axes\n",
    "ax[1].scatter(x,y,alpha=0.5,color='green',edgecolor=\"black\",s=80);\n",
    "ax[1].set_xlim(0,8);\n",
    "ax[1].set_ylim(0,3);\n",
    "ax[1].grid(True);\n",
    "ax[1].set_title(\"Scatter plot\");\n",
    "\n",
    "## We adjust the width of the entire Figure to make room for each Axes\n",
    "fig.set_figwidth(12)"
   ]
  },
  {
   "cell_type": "markdown",
   "metadata": {},
   "source": [
    "#### Example 2\n",
    "\n",
    "In this example we will plot the graph of a function, say $y(x)=\\sin{\\pi x}$, for $x$ in an interval, say $[-2,4]$.  In order to make use of the same method, we will need to generate a set of points that lie on the curve for $x$ in the given interval.  The NumPy method $\\texttt{linspace}$ provides an easy way to produce our points.  This method creates a NumPy array object with entries spaced evenly over a specified interval. "
   ]
  },
  {
   "cell_type": "code",
   "execution_count": 54,
   "metadata": {},
   "outputs": [
    {
     "name": "stdout",
     "output_type": "stream",
     "text": [
      "[-2.   -1.25 -0.5   0.25  1.    1.75  2.5   3.25  4.  ]\n"
     ]
    }
   ],
   "source": [
    "## This call to linspace produces an array of 9 numbers evenly spaced on the interval [-2,4]\n",
    "x = np.linspace(-2,4,9)\n",
    "print(x)"
   ]
  },
  {
   "cell_type": "markdown",
   "metadata": {},
   "source": [
    "For this figure we will use some other options to adjust the appearance of this plot, including configuration of the *ticks* along the $x$ and $y$ axes.  The *ticks* are lists of numbers that define the gridlines and numerical labels along the axes.  The $\\texttt{plot}$ method will provide default values of *ticks*, which can be changed by providing an array of new values.   "
   ]
  },
  {
   "cell_type": "code",
   "execution_count": 64,
   "metadata": {},
   "outputs": [
    {
     "data": {
      "image/png": "[encoded data removed]",
      "text/plain": [
       "<Figure size 432x288 with 1 Axes>"
      ]
     },
     "metadata": {
      "needs_background": "light"
     },
     "output_type": "display_data"
    }
   ],
   "source": [
    "x = np.linspace(-2,4,100)\n",
    "## We can an array of the corresponding y values by using the array x in an algebraic expression\n",
    "y = np.sin(x*np.pi)\n",
    "\n",
    "fig, ax = plt.subplots()\n",
    "ax.plot(x,y)\n",
    "\n",
    "ax.set_xlim(-2,4);\n",
    "ax.set_ylim(-2,2);\n",
    "\n",
    "## The grid option will accept the keyword argument ls, which specifies the linestyle\n",
    "ax.grid(True,ls='dotted');\n",
    "\n",
    "## This option adjusts the aspect ratio so that the x and y axes have the same length scale\n",
    "ax.set_aspect('equal');\n",
    "\n",
    "## This option specifies the ticks with lists produced by range.\n",
    "## If we want noninteger values, we can use linspace to produce a list of tick locations.\n",
    "ax.set_xticks(range(-2,5));\n",
    "ax.set_yticks(range(-2,3));"
   ]
  },
  {
   "cell_type": "markdown",
   "metadata": {},
   "source": [
    "Let's plot the function, together with its derivative.  We'll also include a legend to distinguish between the curves, and add lines at the coordinate axes."
   ]
  },
  {
   "cell_type": "code",
   "execution_count": 31,
   "metadata": {},
   "outputs": [
    {
     "data": {
      "image/png": "[encoded data removed]",
      "text/plain": [
       "<Figure size 432x576 with 1 Axes>"
      ]
     },
     "metadata": {
      "needs_background": "light"
     },
     "output_type": "display_data"
    }
   ],
   "source": [
    "x = np.linspace(-2,8,200)\n",
    "y = np.sin(x*np.pi)\n",
    "y_prime = np.pi*np.cos(x*np.pi)\n",
    "\n",
    "fig, ax = plt.subplots()\n",
    "\n",
    "# We include the keyword label to assign a name to be include in the legend.\n",
    "ax.plot(x,y,label='position');\n",
    "ax.plot(x,y_prime,color='red',label='velocity');\n",
    "\n",
    "# A call to the legend method generates a lengend.  \n",
    "# Keyword parameters may be included to change the default behavior.\n",
    "ax.legend();\n",
    "\n",
    "\n",
    "## This option draws lines x=0 and y=0 using keyword arguments color and linewidth.\n",
    "ax.axvline(color='k',linewidth = 1);\n",
    "ax.axhline(color='k',linewidth = 1);\n",
    "\n",
    "\n",
    "## These options we have seen already.\n",
    "ax.set_xlim(-2,8);\n",
    "ax.set_ylim(-4,4);\n",
    "\n",
    "ax.grid(True,ls='dotted');\n",
    "ax.set_aspect('equal');\n",
    "ax.set_xticks(np.linspace(-2,8,11));\n",
    "ax.set_yticks(np.linspace(-4,4,5));\n",
    "\n",
    "fig.set_figheight(8)"
   ]
  },
  {
   "cell_type": "markdown",
   "metadata": {},
   "source": [
    "### Example 3\n",
    "\n",
    "In this example we create a histogram to visualize the normal distribution."
   ]
  },
  {
   "cell_type": "code",
   "execution_count": 108,
   "metadata": {},
   "outputs": [
    {
     "data": {
      "image/png": "[encoded data removed]",
      "text/plain": [
       "<Figure size 576x360 with 1 Axes>"
      ]
     },
     "metadata": {
      "needs_background": "light"
     },
     "output_type": "display_data"
    }
   ],
   "source": [
    "## We generate an array with 1000 entries from the standard normal distribution.\n",
    "z_data = np.random.normal(size=1000)\n",
    "\n",
    "fig, ax = plt.subplots()\n",
    "\n",
    "## This hist method produces a histogram.\n",
    "ax.hist(z_data,bins=20);\n",
    "\n",
    "## We can use the same Axes setting as in earlier examples.\n",
    "ax.set_xlabel('Value',fontsize=15)\n",
    "ax.set_ylabel('Frequency',fontsize=15)\n",
    "fig.set_figwidth(8)\n",
    "fig.set_figheight(5)"
   ]
  },
  {
   "cell_type": "markdown",
   "metadata": {},
   "source": [
    "To get a bit more control over the bins we can specify a list or array that contains the bin edges, instead of the number of bins.  We can also adjust the bar widths and add horizontal grid lines to make the plot easier to read.  "
   ]
  },
  {
   "cell_type": "code",
   "execution_count": 109,
   "metadata": {},
   "outputs": [
    {
     "data": {
      "image/png": "[encoded data removed]",
      "text/plain": [
       "<Figure size 576x360 with 1 Axes>"
      ]
     },
     "metadata": {
      "needs_background": "light"
     },
     "output_type": "display_data"
    }
   ],
   "source": [
    "fig, ax = plt.subplots()\n",
    "\n",
    "ax.hist(z_data,bins=np.linspace(-3,3,13),rwidth=0.9);\n",
    "ax.grid(axis='y')\n",
    "ax.set_xlabel('Value',fontsize=15)\n",
    "ax.set_ylabel('Frequency',fontsize=15)\n",
    "ax.set_title('Standard Normal Data',fontsize=18)\n",
    "fig.set_figwidth(8)\n",
    "fig.set_figheight(5)"
   ]
  },
  {
   "cell_type": "markdown",
   "metadata": {},
   "source": [
    "### Example 4\n",
    "\n",
    "The final plot is a replication of one featured in a [very cool video](https://www.youtube.com/watch?v=EK32jo7i5LQ) from the 3Blue1Brown channel.  The plot shows points with polar coordinates $(p,p)$ for $p$ a prime.  In this plot we play with the color a bit and set the ticks to an empty list to prevent them being drawn.  Note the color from the XKCD list of [most popular RGB colors](https://xkcd.com/color/rgb/).  All of the colors on the list are available in matplotlib."
   ]
  },
  {
   "cell_type": "code",
   "execution_count": 110,
   "metadata": {},
   "outputs": [
    {
     "data": {
      "image/png": "[encoded data removed]",
      "text/plain": [
       "<Figure size 864x576 with 1 Axes>"
      ]
     },
     "metadata": {},
     "output_type": "display_data"
    }
   ],
   "source": [
    "## Generate a list of the primes less than N\n",
    "primes = []\n",
    "N = 15000\n",
    "for i in range(1,N):\n",
    "    for j in range(2,i):\n",
    "        if (i%j == 0):\n",
    "            break\n",
    "    else:\n",
    "        primes.append(i)\n",
    "\n",
    "P = np.array(primes)\n",
    "\n",
    "## Plot\n",
    "fig,ax = plt.subplots(1,1)\n",
    "ax.scatter(P*np.cos(P),P*np.sin(P),color=\"xkcd:aqua\",alpha = 0.5,s=2)\n",
    "\n",
    "## Set colors, aspect ratio, and title\n",
    "ax.set_xlim(-11000,11000)\n",
    "ax.set_ylim(-11000,11000)\n",
    "ax.set_facecolor(\"black\")\n",
    "ax.set_aspect('equal')\n",
    "ax.set_title(\"Watch the Video to Learn Why We See Spirals!!\",fontsize=12,y=0.0,pad = -15)\n",
    "\n",
    "## Clear the ticks\n",
    "ax.set_xticks([])\n",
    "ax.set_yticks([])\n",
    "\n",
    "## Adjust the size\n",
    "fig.set_figheight(8)\n",
    "fig.set_figwidth(12)"
   ]
  },
  {
   "cell_type": "markdown",
   "metadata": {},
   "source": [
    "### References\n",
    "\n",
    "- [A Crash Course in Python for Scientists](https://nbviewer.jupyter.org/gist/rpmuller/5920182)\n",
    "\n",
    "\n",
    "- [A Gallery of Interesting Jupyter Notebooks](https://github.com/jupyter/jupyter/wiki/A-gallery-of-interesting-Jupyter-Notebooks)\n"
   ]
  }
 ],
 "metadata": {
  "kernelspec": {
   "display_name": "Python 3",
   "language": "python",
   "name": "python3"
  },
  "language_info": {
   "codemirror_mode": {
    "name": "ipython",
    "version": 3
   },
   "file_extension": ".py",
   "mimetype": "text/x-python",
   "name": "python",
   "nbconvert_exporter": "python",
   "pygments_lexer": "ipython3",
   "version": "3.7.3"
  }
 },
 "nbformat": 4,
 "nbformat_minor": 4
}
