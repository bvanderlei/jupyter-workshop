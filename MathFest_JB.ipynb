{
 "cells": [
  {
   "attachments": {
    "logo.png": {
     "image/png": "[encoded data removed]"
    }
   },
   "cell_type": "markdown",
   "id": "4b9ecef9",
   "metadata": {},
   "source": [
    "<br><br>\n",
    "<br><br><br>\n",
    "\n",
    "\n",
    "![logo.png](attachment:logo.png)\n",
    "\n",
    "\n",
    "### MathFest Aug. 7, 2021 \n",
    "### Closing Wallets while Opening Minds:  Adopting Open Education Resources\n",
    "\n",
    "\n",
    "<br><br>\n",
    "\n",
    "### Ben Vanderlei\n",
    "\n",
    "### University of the Fraser Valley\n",
    "\n",
    "\n",
    "<br><br><br><br><br><br><br>"
   ]
  },
  {
   "cell_type": "markdown",
   "id": "05777d40",
   "metadata": {},
   "source": [
    "<br><br><br><br><br><br>\n",
    "\n",
    "# Jupyter Notebooks\n",
    "\n",
    "<br><br>\n",
    "\n",
    "- ## Jupyter Notebook is a browser based environment for working with notebooks.\n",
    "  \n",
    "\n",
    "<br><br>\n",
    "\n",
    "\n",
    "- ## Notebooks are collections of cells, markdown or Python code.\n",
    "    - ### [Introduction to Jupyter](Jupyter_Introduction.ipynb)\n",
    "    - ### [Gaussian_Elimination](Gaussian_Elimination.ipynb)\n",
    "\n",
    "<br><br>\n",
    "\n",
    "- ## Jupyter is accessible.  Easy to run and easy to use.  \n",
    "    - ### Run online at sites such as [CoCalc](https://doc.cocalc.com/index.html) or  [Syzygy](https://syzygy.ca/)  \n",
    "    - ### [Download](https://jupyter.org/install), install, and run offline.  \n",
    "\n",
    "\n",
    "<br><br><br><br><br><br>"
   ]
  },
  {
   "cell_type": "markdown",
   "id": "d0c24da4",
   "metadata": {},
   "source": [
    "<br><br><br><br><br><br>\n",
    "\n",
    "# Jupyter Books\n",
    "\n",
    "<br><br>\n",
    "    \n",
    "- ## The Jupyter Book software generates digital books from collections of notebooks.\n",
    "    - ### Product is collection of webpages complete with navigation tools.\n",
    "    - ### Books offer interactive computing interfaces.\n",
    "\n",
    "<br><br>\n",
    "\n",
    "- ## Examples\n",
    "    - ### [Jupyter Guide to Linear Algebra](https://bvanderlei.github.io/jupyter-guide-to-linear-algebra/intro.html)\n",
    "    - ### [Statistics and Data Science](http://theoryandpractice.org/stats-ds-book/intro.html)\n",
    "    - ### [Deep Learning for Molecules and Materials](https://whitead.github.io/dmol-book/intro.html)\n",
    "    - ### [Executable Book Project](https://executablebooks.org/en/latest/)\n",
    "    \n",
    "<br><br><br><br><br><br>"
   ]
  },
  {
   "cell_type": "markdown",
   "id": "5af48163",
   "metadata": {},
   "source": [
    "<br><br><br><br>\n",
    "\n",
    "# Teaching Advantages\n",
    "\n",
    "<br>\n",
    "\n",
    "- ## Suitable for range of courses.\n",
    "    - ### Scientific computing using SciPy for Linear Algebra, ODE, Statistics, and Numerical Analysis\n",
    "    - ### Symbolic manipulation using SymPy for Calculus\n",
    "    - ### Data manipulation and analysis using Pandas for any data-based course \n",
    "\n",
    "<br>\n",
    "\n",
    "- ## Suitable for range of skill levels.\n",
    "    - ### Students with no programming experience can use Live Code.\n",
    "    - ### Intermediate students can use Binder to edit their own notebooks.\n",
    "    - ### Advanced students can make contributions to the book. (See [Introduction to Earth and Environmental Data Science](https://earth-env-data-science.github.io/intro) as an example.)\n",
    "\n",
    "<br>\n",
    "\n",
    "- ## Complex code can be tucked away in modules.  Data can be stored in repository.\n",
    "\n",
    "<br>\n",
    "\n",
    "- ## [Teaching & Learning with Jupyter](https://jupyter4edu.github.io/jupyter-edu-book/)\n",
    "\n",
    "<br><br><br><br>\n"
   ]
  },
  {
   "cell_type": "markdown",
   "id": "71a7f7bc",
   "metadata": {},
   "source": [
    "<br><br><br><br><br><br>\n",
    "\n",
    "# How to Make a Jupyter Book\n",
    "\n",
    "<br>\n",
    "\n",
    "- ## Tinker around with Jupyter notebooks using an online service.\n",
    "\n",
    "<br>\n",
    "\n",
    "- ## Install the tools needed on your own machine and write a few standalone notebooks.  \n",
    "    - ### The [Anaconda](https://docs.anaconda.com/) distribution contains all necessary components and is available for Windows, MacOS, and Linux. \n",
    "    - ### Linux users can also find individual tools in usual repositories.\n",
    "    \n",
    "<br>\n",
    "\n",
    "- ## Run Jupyter Book to create a book from your notebooks.\n",
    "    - ### Generate a template and fill in your own content.\n",
    "    - ### [Jupyter Book](https://jupyterbook.org/intro.html) documentation is accurate and clear.\n",
    "\n",
    "<br>\n",
    "\n",
    "- ## [Create a repository on GitHub](https://docs.github.com/en/get-started/quickstart/create-a-repo) to contain your notebooks.\n",
    "\n",
    "<br>\n",
    "\n",
    "-  ## Move your HTML files to a web server.  \n",
    "    - ### Jupyter books built from GitHub repositories are easy to publish as GitHub Pages.\n",
    "    \n",
    "<br><br><br><br>"
   ]
  },
  {
   "attachments": {
    "logo.png": {
     "image/png": "[encoded data removed]"
    }
   },
   "cell_type": "markdown",
   "id": "29bb0bc6",
   "metadata": {},
   "source": [
    "<br><br>\n",
    "<br><br><br>\n",
    "\n",
    "![logo.png](attachment:logo.png)\n",
    "\n",
    "<br><br>\n",
    "<br><br>\n",
    "\n",
    "<br><br>\n",
    "\n",
    "<br><br><br><br><br><br>\n",
    "<br><br>"
   ]
  },
  {
   "cell_type": "code",
   "execution_count": null,
   "id": "023d1a09",
   "metadata": {},
   "outputs": [],
   "source": []
  }
 ],
 "metadata": {
  "kernelspec": {
   "display_name": "Python 3",
   "language": "python",
   "name": "python3"
  },
  "language_info": {
   "codemirror_mode": {
    "name": "ipython",
    "version": 3
   },
   "file_extension": ".py",
   "mimetype": "text/x-python",
   "name": "python",
   "nbconvert_exporter": "python",
   "pygments_lexer": "ipython3",
   "version": "3.7.3"
  }
 },
 "nbformat": 4,
 "nbformat_minor": 5
}
