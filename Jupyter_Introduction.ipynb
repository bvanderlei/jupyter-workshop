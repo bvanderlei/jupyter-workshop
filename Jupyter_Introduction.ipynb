{
 "cells": [
  {
   "cell_type": "markdown",
   "metadata": {},
   "source": [
    "## Introduction to Jupyter"
   ]
  },
  {
   "cell_type": "markdown",
   "metadata": {},
   "source": [
    "[Jupyter](https://jupyter.org/) is a web application that allows users to create and share documents called notebooks.  Jupyter notebooks can contain text, equations, and graphics, as well as live Python code with which the user can interact.  [Python](https://www.python.org/) is a very popular computer language for a wide range of applications, including scientific computing, and is known for being a language that is easy to learn for novice programmers.    \n",
    "\n",
    "Upon completion of this introduction, the reader will be able to:\n",
    "- Create, delete, edit, and generally manipulate the cells of a Jupyter notebook.\n",
    "- Use Markdown language to produce formatted text and latex-type content.\n",
    "- Generate and execute Python code that\n",
    "    - writes output\n",
    "    - creates lists\n",
    "    - performs iterations\n",
    "    - defines functions\n",
    "- Export a Jupyter notebook into html or pdf format.\n",
    "\n",
    "There are a vast number of resources available online for those that wish to learn more about specific topics.  Some references are supplied at the end of the section. "
   ]
  },
  {
   "cell_type": "markdown",
   "metadata": {},
   "source": [
    "### Cells \n",
    "\n",
    "The basic element of every Jupyter notebook is the cell.  Every cell is either a **markdown cell**, or a **code cell**.  The markdown cells mostly contain text, LaTex code, and a few formatting codes.  When executed, these cells generate formatted text and formulas.  The code cells contain instructions, written in Python, to be executed by the interpreter.  Code cells will not produce much visual output to the notebook unless they contain specific instructions to do so.    \n",
    "\n",
    "All cells in the notebooks, markdown and code, must be executed in order to produce output and results.  To execute a cell, select the cell and press 'Shift + Enter'.  You can select a cell by clicking it, or by moving up/down with the arrow keys. In order to edit a cell, you must enter **edit mode**.  When not in edit mode, the notebook is said to be in **command mode**.  \n",
    "\n",
    "**Important: Your keyboard will do different things depending on the mode.**  \n",
    "\n",
    "Let's see how to change modes right now, in this very cell.  When a cell is selected, there will be a colored bar on the left border of the cell.  The bar will be green in edit mode and blue in command mode.  To enter command mode we press 'Enter'.  To exit command mode without executing the cell we press 'Esc'.  To execute the cell press 'Shift + Enter'.  \n",
    "\n",
    "Try it!  Edit the line below to include your name.\n",
    "\n",
    "This notebook belongs to ..."
   ]
  },
  {
   "cell_type": "markdown",
   "metadata": {},
   "source": [
    "Although all cells can be edited and executed, there are some distinctions in the two types of cells.\n",
    "\n",
    "- **If there is anything amiss in the code cell, a Python error will be displayed**.  These errors might be difficult to decipher at first, but with a little practice in reading the messages you will be able to understand the common errors that arise.  **If there is anything amiss in a markdown cell, there will be no error message**, although the displayed text or formula may not look correct.  The markdown cells are not executed in the same sense as the code cells.  \n",
    "\n",
    "\n",
    "- **All markdown cells are executed when you open the notebook, but code cells are not**.  This means that when you first open a notebook, the formatted text and formulas produced by the markdown cells will be displayed.  Clicking on the markdown cells will not do anything other than select the cell, and pressing 'Shift + Enter' will not display anything new since the output is already displayed.  By contrast, the output from the code cells might be displayed, but the code in the cell does not get executed by the Notebook until the cell has been run explicity by selecting the cell and pressing 'Shift + Enter'.  It will be quite common for the code in once cell to depend on code in earlier cell.  **If the code cells are executed in the wrong order, we may get error messages or other unexpected results.** "
   ]
  },
  {
   "cell_type": "markdown",
   "metadata": {},
   "source": [
    "### Menus\n",
    "\n",
    "At the top of the notebook there are several dropdown menus, some of which are quite common and easy to understand.  \n",
    "\n",
    "- The *File* menu contains familiar options that create or open other notebooks, save or rename the current notebook, download the current notebook, or close the notebook.  Note that in the *File* menu there is an option to export the notebook as a pdf.  \n",
    "\n",
    "\n",
    "- The *Edit* menu contains several options for manipulating cells within the notebook.  The common cell operations include cutting, copying, adding, deleting, merging, etc.  \n",
    "\n",
    "\n",
    "- The *View* menu contains a few display options.\n",
    "\n",
    "\n",
    "- The *Cell* menu offers different options to run collections of cells, rather than individual cells.  It also contains the *Cell Type* option, which toggles cells between code and markdown.\n",
    "\n",
    "\n",
    "- The *Kernel* menu interacts with the Python interpreter.  It is occasionally necessary to restart the kernal to reload a module, or interrupt the kernal if something goes wrong, but most of the time interaction with the kernal is not needed for routine operations.\n",
    "\n",
    "\n",
    "- The *Widget* menu interacts with widgets, which are dynamic elements that can be added to notebooks.\n",
    "\n",
    "\n",
    "-  The *Help* menu offers documentation about the notebook environment as well as links to external references.  There is a reference in the *Help* menu that lists many useful keyboard shortcuts to perform common tasks when the notebook is in command mode.\n",
    "\n",
    "\n",
    "Located just below the menus is a tool bar which contains buttons for the most common operations.  You should see buttons to do things such as copy, paste, and move cells.  There is a dropdown menu to toggle cells between code and markdown.  "
   ]
  },
  {
   "cell_type": "markdown",
   "metadata": {},
   "source": [
    "### Markdown\n",
    "\n",
    "The markdown language of Jupyter notebooks makes it easy to format text in common ways, such as putting emphasis via *italics* or **boldface**.  You can see the markdown that generates any of the text in this notebook by opening the cell in command mode.\n",
    "\n",
    "Latex code can be used inline with \\\\$, to produce $x = t^2 +2$ within paragraphs as usual.  Most latex environments are also supported.\n",
    "\n",
    "\\begin{equation}\n",
    "x = t^2 +2\n",
    "\\end{equation}\n",
    "\n",
    "Although *most* latex code will work as expected in Jupyter notebooks, there are exceptions.  Lists for example are generated with markdown rather than Latex $\\texttt{itemize}$ or $\\texttt{enumerate}$.\n",
    "\n",
    "1. One fish\n",
    "2. Two fish\n",
    "\n",
    "- Red fish\n",
    "- Blue fish\n",
    "\n",
    "For many more details, check the [official documentation](https://jupyter-notebook.readthedocs.io/en/stable/examples/Notebook/Working%20With%20Markdown%20Cells.html)."
   ]
  },
  {
   "cell_type": "markdown",
   "metadata": {},
   "source": [
    "## Introduction to Python\n",
    "\n",
    "\n",
    "This section includes many cells which contain Python code.  The output from each cell is visible directly below the cell.  In order to engage with the notebook and see new results, edit the code cell, then press 'Shift + Enter'."
   ]
  },
  {
   "cell_type": "markdown",
   "metadata": {},
   "source": [
    "### Calculations, variable assignments, and printing\n",
    "\n",
    "The first thing we might try is the use of code cells as a calculator.  Indeed this works in a straightforward way.  Run the cell below to see how it works.  Experiment with the input to see how to enter various operations.  (Note that you can get exponents by using the \\*\\* operator.)  "
   ]
  },
  {
   "cell_type": "code",
   "execution_count": 2,
   "metadata": {},
   "outputs": [
    {
     "data": {
      "text/plain": [
       "77.4"
      ]
     },
     "execution_count": 2,
     "metadata": {},
     "output_type": "execute_result"
    }
   ],
   "source": [
    "43*1.8"
   ]
  },
  {
   "cell_type": "markdown",
   "metadata": {},
   "source": [
    "\n",
    "The next thing to learn is how to assign names to numbers and other objects.  For this task we use a command like $\\texttt{b=32/5}$.  This code computes the value of $\\texttt{32/5}$, stores this value as an object, and then assigns the name $\\texttt{b}$ to that object.  (*Note that unlike other programming languages, we do not need to specify the data type of the object.  Python will make a choice on the fly.*)"
   ]
  },
  {
   "cell_type": "code",
   "execution_count": 2,
   "metadata": {},
   "outputs": [],
   "source": [
    "b = 32/5"
   ]
  },
  {
   "cell_type": "markdown",
   "metadata": {},
   "source": [
    "Since the result was stored, the actual value of $\\texttt{b}$ is not displayed as ouput from the code cell.  Indeed, nothing is displayed when the cell is executed.  Typically, when we want to display the results of a computation, we have to use a command called $\\texttt{print}$."
   ]
  },
  {
   "cell_type": "code",
   "execution_count": 1,
   "metadata": {},
   "outputs": [
    {
     "name": "stdout",
     "output_type": "stream",
     "text": [
      "6.4\n"
     ]
    }
   ],
   "source": [
    "b=32/5\n",
    "print(b)"
   ]
  },
  {
   "cell_type": "markdown",
   "metadata": {},
   "source": [
    "If we print the results of many calculations, it becomes difficult to determine which number is which.  We will often want to print text with numerical results to provide descriptions.  The text to be printed must be placed in quotes.  It is also possible to provide multiple items to the $\\texttt{print}$ command by separating them with commas."
   ]
  },
  {
   "cell_type": "code",
   "execution_count": 3,
   "metadata": {},
   "outputs": [
    {
     "name": "stdout",
     "output_type": "stream",
     "text": [
      "The calculation is complete.\n",
      "The result of the calculation 32/5 is 6.4\n"
     ]
    }
   ],
   "source": [
    "print(\"The calculation is complete.\")\n",
    "print(\"The result of the calculation 32/5 is\",b)"
   ]
  },
  {
   "cell_type": "markdown",
   "metadata": {},
   "source": [
    "The text within the quotes is a Python object known as a **string**.  Just as with the value of $\\texttt{b}$, we could assign the string object a name if we plan to reuse it.  Python offers *many* powerful ways to manipulate and process strings.  "
   ]
  },
  {
   "cell_type": "code",
   "execution_count": 4,
   "metadata": {},
   "outputs": [
    {
     "name": "stdout",
     "output_type": "stream",
     "text": [
      "The result of the calculation is 6.4\n",
      "The result of the calculation is 236.8\n"
     ]
    }
   ],
   "source": [
    "result_message = \"The result of the calculation is\"\n",
    "print(result_message,b)\n",
    "print(result_message,b*37)"
   ]
  },
  {
   "cell_type": "markdown",
   "metadata": {},
   "source": [
    "It is sometimes easier to read output if there are extra space to break up the lines.  Printing out the special string $\\texttt{'\\n'}$ adds an extra line break. "
   ]
  },
  {
   "cell_type": "code",
   "execution_count": 5,
   "metadata": {},
   "outputs": [
    {
     "name": "stdout",
     "output_type": "stream",
     "text": [
      "The result of the calculation is 6.4 \n",
      "\n",
      "The result of the calculation is 236.8\n"
     ]
    }
   ],
   "source": [
    "print(result_message,b,'\\n')\n",
    "print(result_message,b*37)"
   ]
  },
  {
   "cell_type": "markdown",
   "metadata": {},
   "source": [
    "The $\\texttt{print}$ command offers several other ways to manipulate the basic format of the output it produces.  To see the full built-in documentation for $\\texttt{print}$, we can print its **docsting**.  (*More on this later*)"
   ]
  },
  {
   "cell_type": "code",
   "execution_count": 1,
   "metadata": {},
   "outputs": [
    {
     "name": "stdout",
     "output_type": "stream",
     "text": [
      "print(value, ..., sep=' ', end='\\n', file=sys.stdout, flush=False)\n",
      "\n",
      "Prints the values to a stream, or to sys.stdout by default.\n",
      "Optional keyword arguments:\n",
      "file:  a file-like object (stream); defaults to the current sys.stdout.\n",
      "sep:   string inserted between values, default a space.\n",
      "end:   string appended after the last value, default a newline.\n",
      "flush: whether to forcibly flush the stream.\n"
     ]
    }
   ],
   "source": [
    "print(print.__doc__)"
   ]
  },
  {
   "cell_type": "markdown",
   "metadata": {},
   "source": [
    "### Functions\n",
    "\n",
    "Quite often we write a bit of code that we would like to reuse.  Maybe it was tricky to figure out, or just tedious to type, and we want to save time and effort by making use of the code we've already written.  We could just copy and paste code from here to there, but that quickly becomes a chore as the amount of code we need continues to grow.  \n",
    "\n",
    "One simple way to reuse code is to define a **function**.  We can think of a function as a new command that will carry out whatever instructions we would like to include.  Sometimes we will find it useful to provide the function with information in order for it to do its job.  Other times we might ask that the function return some information to us when it has finished its job.  Let's look at a couple of examples.\n",
    "\n",
    "In the first example, we won't exchange information with the function, we will just ask it to display a message.  To define a function we use the keyword $\\texttt{def}$.  We then list any instructions that we want the function to carry out.  The $\\texttt{def}$ command must end with a colon (:), and all instructions that are part of the function **must be indented** with a 'Tab' key. "
   ]
  },
  {
   "cell_type": "code",
   "execution_count": 11,
   "metadata": {},
   "outputs": [],
   "source": [
    "def InchConversionFactor():\n",
    "    print(\"There are 2.54 centimeters in 1 inch.\")"
   ]
  },
  {
   "cell_type": "markdown",
   "metadata": {},
   "source": [
    "Note that when we execute the cell, the message is not printed.  This statement only defines the function.  In order to execute the commands in the function, we have to call it."
   ]
  },
  {
   "cell_type": "code",
   "execution_count": 2,
   "metadata": {},
   "outputs": [
    {
     "name": "stdout",
     "output_type": "stream",
     "text": [
      "There are 2.54 centimeters in 1 inch.\n"
     ]
    }
   ],
   "source": [
    "InchConversionFactor()"
   ]
  },
  {
   "cell_type": "markdown",
   "metadata": {},
   "source": [
    "When we call the function, we need to include the parentheses () as part of the call.  In this example the parentheses are empty because we are not passing any information to the function.  Let's write another function that allows us to provide it with a measurement in inches, and have it print out the measurement in centimeters."
   ]
  },
  {
   "cell_type": "code",
   "execution_count": 3,
   "metadata": {},
   "outputs": [],
   "source": [
    "def InchtoCentimeterConversion(inches):\n",
    "    cm = inches*2.54\n",
    "    print(\"There are\",cm,\"centimeters in\",inches,\"inches.\")  "
   ]
  },
  {
   "cell_type": "markdown",
   "metadata": {},
   "source": [
    "Again, nothing actually happens until we call the function.  This time when we call though, we will need to provide a numer that the function will interpret as the variable $\\texttt{inches}$.  The objects that we pass into functions are known as **arguments**."
   ]
  },
  {
   "cell_type": "code",
   "execution_count": 4,
   "metadata": {},
   "outputs": [
    {
     "name": "stdout",
     "output_type": "stream",
     "text": [
      "There are 5.842 centimeters in 2.3 inches.\n"
     ]
    }
   ],
   "source": [
    "InchtoCentimeterConversion(2.3)"
   ]
  },
  {
   "cell_type": "markdown",
   "metadata": {},
   "source": [
    "In the final example we will provide the function with the measurement in centimeters, and it will *return to us* the measurement in centimeters without printing anything."
   ]
  },
  {
   "cell_type": "code",
   "execution_count": 6,
   "metadata": {},
   "outputs": [],
   "source": [
    "def ReturnInchtoCentimeterConversion(inches):\n",
    "    cm = inches*2.54\n",
    "    return cm"
   ]
  },
  {
   "cell_type": "markdown",
   "metadata": {},
   "source": [
    "And again we must call the function to carry out the code.  This time however, the function creates an object that represents the value being returned.  In order to make use of this object we must assign it a name as before."
   ]
  },
  {
   "cell_type": "code",
   "execution_count": 7,
   "metadata": {},
   "outputs": [
    {
     "name": "stdout",
     "output_type": "stream",
     "text": [
      "Our result is 5.842 centimeters\n"
     ]
    }
   ],
   "source": [
    "result = ReturnInchtoCentimeterConversion(2.3)\n",
    "print(\"Our result is\",result,\"centimeters.\")"
   ]
  },
  {
   "cell_type": "markdown",
   "metadata": {},
   "source": [
    "### Conditional statements\n",
    "\n",
    "It is quite common that we will want some commands to be carried out only in certain conditions.  If we are carrying out division for example, we might want to be certain we are not dividing by zero.  The $\\texttt{if}$ keyword lets us check a condition before proceeding with any associated commands.  The structure of an *if block* is similar to that of a function definition.  The $\\texttt{if}$ keyword is followed with a condition and a colon, then all associated commands **are indented** to indicate that they are only to be executed when the condition is true."
   ]
  },
  {
   "cell_type": "code",
   "execution_count": 9,
   "metadata": {},
   "outputs": [
    {
     "name": "stdout",
     "output_type": "stream",
     "text": [
      "0.4\n"
     ]
    }
   ],
   "source": [
    "a = 2\n",
    "b = 5\n",
    "c = 0\n",
    "\n",
    "if (b != 0):\n",
    "    result1 = a/b\n",
    "    print(result1)\n",
    "    \n",
    "if (c != 0):\n",
    "    result2 = a/c\n",
    "    print(result2)"
   ]
  },
  {
   "cell_type": "markdown",
   "metadata": {},
   "source": [
    "In this case only the value of $\\texttt{result1}$ was computed.  The condition in the second if block ($c$ not equal to 0) is not true, so the instructions in this block are not executed.  Note that the conditions have their own precise syntax as well.  Here are a few common conditions.\n",
    "\n",
    "- $\\texttt{a > b}$    (Is $a$ greater than $b$?)\n",
    "- $\\texttt{a == b}$   (Does $a$ equal $b$?)\n",
    "- $\\text{a != b}$   (Does $a$ not equal $b$?)"
   ]
  },
  {
   "cell_type": "markdown",
   "metadata": {},
   "source": [
    "Sometimes we will want some commands executed if a condition is true, but *other commands* executed if the condition is not true.  In this scenario we use the $\\texttt{else}$ keyword to define an *else block*, which forms the alternative to the *if block*.  Let's suppose $a$ has been assigned a value, and we want to compute $|a|$, the absolute value of $a$."
   ]
  },
  {
   "cell_type": "code",
   "execution_count": 10,
   "metadata": {},
   "outputs": [
    {
     "name": "stdout",
     "output_type": "stream",
     "text": [
      "The absolute value of a is 8\n"
     ]
    }
   ],
   "source": [
    "a = -8\n",
    "\n",
    "if (a > 0):\n",
    "    abs_value = a\n",
    "else:\n",
    "    abs_value = -a\n",
    "    \n",
    "print(\"The absolute value of a is\",abs_value)"
   ]
  },
  {
   "cell_type": "markdown",
   "metadata": {},
   "source": [
    "Try changing the value of $a$.  What happens if $a=0$ ? \n",
    "\n",
    "At other times we will want to *repeat* commands while a condition is true.  This is done with the $\\texttt{while}$ command, and a corresponding *while block* of code.  We demonstrate with code that totals all the integers from $a$ to $b$.  "
   ]
  },
  {
   "cell_type": "code",
   "execution_count": 24,
   "metadata": {},
   "outputs": [
    {
     "name": "stdout",
     "output_type": "stream",
     "text": [
      "The total is 207\n"
     ]
    }
   ],
   "source": [
    "a = 3\n",
    "b = 20\n",
    "\n",
    "count = a\n",
    "sum = 0\n",
    "\n",
    "while(count <= b):\n",
    "    sum = sum + count\n",
    "    count = count + 1\n",
    "\n",
    "print(\"The total is\",sum)"
   ]
  },
  {
   "cell_type": "markdown",
   "metadata": {},
   "source": [
    "Blocks of code that get repeated like this are known as **loops**.  The commands in the *while block* are said to be \"inside the loop\". "
   ]
  },
  {
   "cell_type": "markdown",
   "metadata": {},
   "source": [
    "### Iterations\n",
    "\n",
    "Another common type of loop is created with the $\\texttt{for}$ keyword, and is thus known as a *for loop*.  The commands inside a *for loop* get repeated once for each object in a specified collection.  In scientific computing the collection of objects is often a set of numbers that can be generated using the $\\texttt{range}$ command.  The combination of $\\texttt{for}$ and $\\texttt{range}$ is easiest to understand by looking at some examples."
   ]
  },
  {
   "cell_type": "code",
   "execution_count": 1,
   "metadata": {},
   "outputs": [
    {
     "name": "stdout",
     "output_type": "stream",
     "text": [
      "0\n",
      "1\n",
      "2\n",
      "3\n",
      "4\n"
     ]
    }
   ],
   "source": [
    "for number in range(5):\n",
    "    print(number)"
   ]
  },
  {
   "cell_type": "markdown",
   "metadata": {},
   "source": [
    "In this first example every number in $\\texttt{range(5)}$ gets printed.  We can see that $\\texttt{range(5)}$ contains the numbers from 0 to 4.  In general $\\texttt{range(n)}$ will generate the numbers 0 to $n-1$.  It may appear strange that the collection is 0 to 4 instead of 1 to 5, but counts beginning with zero are common in programming languages.  We can specify any starting number we like by providing another argument to the $\\texttt{range}$ function."
   ]
  },
  {
   "cell_type": "code",
   "execution_count": 27,
   "metadata": {},
   "outputs": [
    {
     "name": "stdout",
     "output_type": "stream",
     "text": [
      "3\n",
      "4\n",
      "5\n",
      "6\n",
      "7\n",
      "8\n",
      "9\n"
     ]
    }
   ],
   "source": [
    "for number in range(3,10):\n",
    "    print(number)"
   ]
  },
  {
   "cell_type": "markdown",
   "metadata": {},
   "source": [
    "We can also provide the $\\texttt{range}$ function a third argument to specify the *spacing* between numbers."
   ]
  },
  {
   "cell_type": "code",
   "execution_count": 28,
   "metadata": {},
   "outputs": [
    {
     "name": "stdout",
     "output_type": "stream",
     "text": [
      "4\n",
      "6\n",
      "8\n",
      "10\n"
     ]
    }
   ],
   "source": [
    "for number in range(4,12,2):\n",
    "    print(number)"
   ]
  },
  {
   "cell_type": "markdown",
   "metadata": {},
   "source": [
    "With $\\texttt{for}$ and $\\texttt{range}$ we can create another loop that totals the numbers from $a$ to $b$ as we did earlier using $\\texttt{while}$."
   ]
  },
  {
   "cell_type": "code",
   "execution_count": 2,
   "metadata": {},
   "outputs": [
    {
     "name": "stdout",
     "output_type": "stream",
     "text": [
      "The total is 207\n"
     ]
    }
   ],
   "source": [
    "a = 3\n",
    "b = 20\n",
    "\n",
    "sum = 0\n",
    "\n",
    "for i in range(a, b+1):\n",
    "    sum = sum + i\n",
    "    \n",
    "print(\"The total is\",sum)"
   ]
  },
  {
   "cell_type": "markdown",
   "metadata": {},
   "source": [
    "### Comments\n",
    "\n",
    "Often it is useful to include some plain text inside the code cell to help provide a description or explanation.  Such text is called a **comment**.  Comments are not interpreted as Python code, so we can write anything we like to help us document the code.  There are two ways to accomplish this.\n",
    "\n",
    "1. Any portion of a line that follows the $\\texttt{#}$ symbol is ignored by the interpretor.\n"
   ]
  },
  {
   "cell_type": "code",
   "execution_count": 11,
   "metadata": {},
   "outputs": [
    {
     "name": "stdout",
     "output_type": "stream",
     "text": [
      "The square of 142 is 20164\n"
     ]
    }
   ],
   "source": [
    "a = 142\n",
    "c = a**2  # c is the square of a\n",
    "print(\"The square of\",a,\"is\",c)"
   ]
  },
  {
   "cell_type": "markdown",
   "metadata": {},
   "source": [
    "2. Any portion of the code cell within triple quotes is ignored."
   ]
  },
  {
   "cell_type": "code",
   "execution_count": 12,
   "metadata": {},
   "outputs": [
    {
     "name": "stdout",
     "output_type": "stream",
     "text": [
      "The square of 142 is 20164\n"
     ]
    }
   ],
   "source": [
    "''' \n",
    "We can write \n",
    "several lines\n",
    "worth of comments to explain\n",
    "the purpose of the code\n",
    "'''\n",
    "a = 142\n",
    "c = a**2  # c is the square of a\n",
    "print(\"The square of\",a,\"is\",c)"
   ]
  },
  {
   "cell_type": "markdown",
   "metadata": {},
   "source": [
    "The important point here is that the previous two cells do exactly the same thing.  The comments have no effect on the calculation or the output.  The following cell with no comments also does exactly the same thing."
   ]
  },
  {
   "cell_type": "code",
   "execution_count": 13,
   "metadata": {},
   "outputs": [
    {
     "name": "stdout",
     "output_type": "stream",
     "text": [
      "The square of 142 is 20164\n"
     ]
    }
   ],
   "source": [
    "a = 142\n",
    "c = a**2\n",
    "print(\"The square of\",a,\"is\",c)"
   ]
  },
  {
   "cell_type": "markdown",
   "metadata": {},
   "source": [
    "The docstring of the $\\texttt{print}$ function that we saw earlier is generated from a comment within the code for that function.  It is easy to include documentation for your own functions this way."
   ]
  },
  {
   "cell_type": "code",
   "execution_count": 4,
   "metadata": {},
   "outputs": [],
   "source": [
    "def ReturnInchtoCentimeterConversion(inches):\n",
    "    '''\n",
    "    ReturnInchtoCentimeterConversion(inches)\n",
    "    \n",
    "    Returns measurement in centimeters, given measurement in inches.\n",
    "    '''\n",
    "    cm = inches*2.54\n",
    "    return cm"
   ]
  },
  {
   "cell_type": "markdown",
   "metadata": {},
   "source": [
    "Now if this function definition is tucked away in another file, we can easily have a look at the description by printing the docstring."
   ]
  },
  {
   "cell_type": "code",
   "execution_count": 5,
   "metadata": {},
   "outputs": [
    {
     "name": "stdout",
     "output_type": "stream",
     "text": [
      "\n",
      "    ReturnInchtoCentimeterConversion(inches)\n",
      "    \n",
      "    Returns measurement in centimeters, given measurement in inches.\n",
      "    \n"
     ]
    }
   ],
   "source": [
    "print(ReturnInchtoCentimeterConversion.__doc__)"
   ]
  },
  {
   "cell_type": "markdown",
   "metadata": {},
   "source": [
    "### Importing Libraries\n",
    "\n",
    "The core of the Python language is relatively small.  In order to access more tools we will **import** some Python modules.  For example, some basic functions that you might find on a scientific calculator are not part of the Python language, but are included in the math module.  A simple way to import this module is with the code $\\texttt{import math}$.  The cell below shows some examples of how we might use the module."
   ]
  },
  {
   "cell_type": "code",
   "execution_count": 3,
   "metadata": {},
   "outputs": [
    {
     "name": "stdout",
     "output_type": "stream",
     "text": [
      "The square root of 2 is approximately 1.4142135623730951\n",
      "Pi is approximately 3.141592653589793\n",
      "The cosine of pi/10 is approximately 0.9510565162951535\n"
     ]
    }
   ],
   "source": [
    "import math\n",
    "s = math.sqrt(2)\n",
    "print(\"The square root of 2 is approximately\",s)\n",
    "PI = math.pi\n",
    "print(\"Pi is approximately\", PI)\n",
    "print(\"The cosine of pi/10 is approximately\",math.cos(PI/10))"
   ]
  },
  {
   "cell_type": "markdown",
   "metadata": {},
   "source": [
    "Note that when we use the square root function, we need to use the call $\\texttt{math.sqrt}$ instead of just $\\texttt{sqrt}$.  This is because the square root function is actually a part of the $\\texttt{math}$ module, and is not in the basic set of Python commands.  The use of this dot notation is ubiquitous in Python.  Whenever $\\texttt{object2}$ is contained within $\\texttt{object1}$, we access $\\texttt{object2}$ by using $\\texttt{object1.object2}$. \n",
    "\n",
    "Another approach to importing is to import only the specific functions from the module that we want to use."
   ]
  },
  {
   "cell_type": "code",
   "execution_count": 4,
   "metadata": {},
   "outputs": [
    {
     "name": "stdout",
     "output_type": "stream",
     "text": [
      "The cosine of pi/10 is approximately 0.9510565162951535\n"
     ]
    }
   ],
   "source": [
    "from math import cos\n",
    "result = cos(PI/10)\n",
    "print(\"The cosine of pi/10 is approximately\",result)"
   ]
  },
  {
   "cell_type": "markdown",
   "metadata": {},
   "source": [
    "Note that if we import the $\\texttt{cos}$ function in this way, we *do not* need to use the dot notation to access it.  The function is said to be in the *local namespace*.\n",
    "\n",
    "Although it is very easy to ask Google how to do any given calculation, it is also fairly easy to use the built in documentation.  Modules contain a directory of their functions, which can be accessed with $\\texttt{dir}$, and the documentation for any individual function can be found in their docstrings. "
   ]
  },
  {
   "cell_type": "code",
   "execution_count": 13,
   "metadata": {},
   "outputs": [
    {
     "name": "stdout",
     "output_type": "stream",
     "text": [
      "['__doc__', '__loader__', '__name__', '__package__', '__spec__', 'acos', 'acosh', 'asin', 'asinh', 'atan', 'atan2', 'atanh', 'ceil', 'copysign', 'cos', 'cosh', 'degrees', 'e', 'erf', 'erfc', 'exp', 'expm1', 'fabs', 'factorial', 'floor', 'fmod', 'frexp', 'fsum', 'gamma', 'gcd', 'hypot', 'inf', 'isclose', 'isfinite', 'isinf', 'isnan', 'ldexp', 'lgamma', 'log', 'log10', 'log1p', 'log2', 'modf', 'nan', 'pi', 'pow', 'radians', 'remainder', 'sin', 'sinh', 'sqrt', 'tan', 'tanh', 'tau', 'trunc']\n"
     ]
    }
   ],
   "source": [
    "print(dir(math))"
   ]
  },
  {
   "cell_type": "code",
   "execution_count": 19,
   "metadata": {},
   "outputs": [
    {
     "name": "stdout",
     "output_type": "stream",
     "text": [
      "Return the Euclidean distance, sqrt(x*x + y*y).\n"
     ]
    }
   ],
   "source": [
    "print(math.hypot.__doc__)"
   ]
  },
  {
   "cell_type": "markdown",
   "metadata": {},
   "source": [
    "### Lists\n",
    "\n",
    "When writing code for more complex tasks, it is often necessary to group together objects that are related in some way.  Python features a flexible structure known as a **list** for this purpose.  Lists (known as arrays in other languages) are simply groups of objects, such as numbers or strings, bound together in a particular order.  The individual items in a list are assigned an **index** based on their position, with zero assigned to the first object.  Lists are defined and indexed with square brackets.   "
   ]
  },
  {
   "cell_type": "code",
   "execution_count": 10,
   "metadata": {},
   "outputs": [
    {
     "name": "stdout",
     "output_type": "stream",
     "text": [
      "[1, 4, 9, 16]\n",
      "16\n"
     ]
    }
   ],
   "source": [
    "square_numbers = [1, 4, 9, 16]\n",
    "print(square_numbers)\n",
    "print(square_numbers[3])"
   ]
  },
  {
   "cell_type": "markdown",
   "metadata": {},
   "source": [
    "Lists have many built-in methods (functions) that can be used to manipulate their contents.  For example, lists can be grown dynamically using the $\\texttt{append}$ method...."
   ]
  },
  {
   "cell_type": "code",
   "execution_count": 11,
   "metadata": {},
   "outputs": [
    {
     "name": "stdout",
     "output_type": "stream",
     "text": [
      "[1, 4, 9, 16, 25]\n"
     ]
    }
   ],
   "source": [
    "square_numbers.append(25)\n",
    "print(square_numbers)"
   ]
  },
  {
   "cell_type": "markdown",
   "metadata": {},
   "source": [
    "...or reduced by the $\\texttt{remove}$ method.  Note again the use of the dot notation.  The methods $\\texttt{append}$ and $\\texttt{remove}$ are function names *within* the list object."
   ]
  },
  {
   "cell_type": "code",
   "execution_count": 12,
   "metadata": {},
   "outputs": [
    {
     "name": "stdout",
     "output_type": "stream",
     "text": [
      "[1, 4, 9, 16]\n"
     ]
    }
   ],
   "source": [
    "square_numbers.remove(25)\n",
    "print(square_numbers)"
   ]
  },
  {
   "cell_type": "markdown",
   "metadata": {},
   "source": [
    "The $\\texttt{pop}$ method removes and returns an item at a given index."
   ]
  },
  {
   "cell_type": "code",
   "execution_count": 13,
   "metadata": {},
   "outputs": [
    {
     "name": "stdout",
     "output_type": "stream",
     "text": [
      "[4, 9, 16]\n",
      "Popped number:  1\n"
     ]
    }
   ],
   "source": [
    "popped_element = square_numbers.pop(0)\n",
    "print(square_numbers)\n",
    "print(\"Popped number: \",popped_element)"
   ]
  },
  {
   "cell_type": "markdown",
   "metadata": {},
   "source": [
    "When the contents of list follow a pattern, we might build the list using a loop rather than typing each element.  We can start with an empty list and use append to add elements one at a time."
   ]
  },
  {
   "cell_type": "code",
   "execution_count": 14,
   "metadata": {},
   "outputs": [
    {
     "name": "stdout",
     "output_type": "stream",
     "text": [
      "[1, 4, 9, 16, 25, 36, 49, 64, 81]\n"
     ]
    }
   ],
   "source": [
    "square_numbers = []\n",
    "for i in range(1,10):\n",
    "    square_numbers.append(i**2)\n",
    "print(square_numbers)"
   ]
  },
  {
   "cell_type": "markdown",
   "metadata": {},
   "source": [
    "Python also allows us to construct such a list with a single line that parallels that for loop.  This is known as list comprehension.  (*Note there is no need to remember this alternate syntax.  It is just a shortcut that replaces writing out the for loop.*)"
   ]
  },
  {
   "cell_type": "code",
   "execution_count": 15,
   "metadata": {},
   "outputs": [
    {
     "name": "stdout",
     "output_type": "stream",
     "text": [
      "[1, 4, 9, 16, 25, 36, 49, 64, 81]\n"
     ]
    }
   ],
   "source": [
    "square_numbers = [i**2 for i in range(1,10)]\n",
    "print(square_numbers)"
   ]
  },
  {
   "cell_type": "markdown",
   "metadata": {},
   "source": [
    "When we wish to iterate over the list for some purpose, we can write a for loop to iterate over the valid indices of the list which are zero to one less than the length of the list.  The length of the list can be found with the $\\texttt{len}$ command, which can then be combined with $\\texttt{range}$ to produce the appropriate indices."
   ]
  },
  {
   "cell_type": "code",
   "execution_count": 8,
   "metadata": {},
   "outputs": [
    {
     "name": "stdout",
     "output_type": "stream",
     "text": [
      "[0, 1, 16, 81, 256, 625, 1296, 2401, 4096, 6561]\n"
     ]
    }
   ],
   "source": [
    "fourth_powers = []\n",
    "for i in range(len(square_numbers)):\n",
    "    fourth_powers.append(square_numbers[i]**2)\n",
    "print(fourth_powers)"
   ]
  },
  {
   "cell_type": "markdown",
   "metadata": {},
   "source": [
    "This approach will be familiar to those with experience using other languages.  In Python there is a tidier way to write the same loop.  If we don't have actual need for the indices, we can just loop over the objects in the list."
   ]
  },
  {
   "cell_type": "code",
   "execution_count": 16,
   "metadata": {},
   "outputs": [
    {
     "name": "stdout",
     "output_type": "stream",
     "text": [
      "[1, 16, 81, 256, 625, 1296, 2401, 4096, 6561]\n"
     ]
    }
   ],
   "source": [
    "fourth_powers = []\n",
    "for square in square_numbers:\n",
    "    fourth_powers.append(square**2)\n",
    "print(fourth_powers)"
   ]
  },
  {
   "cell_type": "markdown",
   "metadata": {},
   "source": [
    "This idea can be combined with the syntax of list comprehension to accomplish the same task with even less code."
   ]
  },
  {
   "cell_type": "code",
   "execution_count": 17,
   "metadata": {},
   "outputs": [
    {
     "name": "stdout",
     "output_type": "stream",
     "text": [
      "[1, 16, 81, 256, 625, 1296, 2401, 4096, 6561]\n"
     ]
    }
   ],
   "source": [
    "fourth_powers = [square**2 for square in square_numbers]\n",
    "print(fourth_powers)"
   ]
  },
  {
   "cell_type": "markdown",
   "metadata": {},
   "source": [
    "## Exercises\n",
    "\n",
    "- Write a function that accepts two arguments, $\\texttt{a}$ and $\\texttt{b}$, and returns the remainder of $\\texttt{a/b}$.  (*There is a built-in Python operator that does this, but try to come up with a way to do it for yourself.*)  Include a docstring for later reference.\n",
    "\n",
    "\n",
    "- Write a function that accepts a single argument, $N$, and returns a list of the first $N$ Fibonacci numbers.\n",
    "\n",
    "\n",
    "- The characters in strings can be accessed by index in the same was as elements of a list are accessed. Try this by printing out each character in the string \"Project Juypter\" separately.  Unlike lists however, strings cannot be altered once created.  (*In Python lingo, strings are said to be immutable, while lists are mutable.*)  It is possible though to build new strings from old strings by adding strings together using the $+$ operator.  Write a function that accepts a string and returns a new string with the characters reversed.  "
   ]
  },
  {
   "cell_type": "markdown",
   "metadata": {},
   "source": [
    "## Web Resources\n",
    "\n",
    "- [Jupyter Notebook Documentation](https://jupyter-notebook.readthedocs.io/en/stable/notebook.html)\n",
    "\n",
    "\n",
    "- [The Python Tutorial](https://docs.python.org/3/tutorial/)\n",
    "\n",
    "\n",
    "- [Real Python](https://realpython.com/)\n",
    "\n"
   ]
  }
 ],
 "metadata": {
  "kernelspec": {
   "display_name": "Python 3",
   "language": "python",
   "name": "python3"
  },
  "language_info": {
   "codemirror_mode": {
    "name": "ipython",
    "version": 3
   },
   "file_extension": ".py",
   "mimetype": "text/x-python",
   "name": "python",
   "nbconvert_exporter": "python",
   "pygments_lexer": "ipython3",
   "version": "3.7.3"
  }
 },
 "nbformat": 4,
 "nbformat_minor": 4
}
